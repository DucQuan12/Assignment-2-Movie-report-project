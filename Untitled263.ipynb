{
  "nbformat": 4,
  "nbformat_minor": 0,
  "metadata": {
    "colab": {
      "name": "Untitled263.ipynb",
      "private_outputs": true,
      "provenance": [],
      "collapsed_sections": [],
      "include_colab_link": true
    },
    "kernelspec": {
      "name": "python3",
      "display_name": "Python 3"
    },
    "accelerator": "GPU"
  },
  "cells": [
    {
      "cell_type": "markdown",
      "metadata": {
        "id": "view-in-github",
        "colab_type": "text"
      },
      "source": [
        "<a href=\"https://colab.research.google.com/github/yanyiquan/Assignment-2-Movie-report-project/blob/main/Untitled263.ipynb\" target=\"_parent\"><img src=\"https://colab.research.google.com/assets/colab-badge.svg\" alt=\"Open In Colab\"/></a>"
      ]
    },
    {
      "cell_type": "code",
      "metadata": {
        "id": "9ATElJXN5gmC"
      },
      "source": [
        "# !pip3 install tensorflow==1.15 torch==1.2.0 torchvision==0.2.0"
      ],
      "execution_count": null,
      "outputs": []
    },
    {
      "cell_type": "code",
      "metadata": {
        "id": "cOtbvc40_Tko"
      },
      "source": [
        "import tensorflow as tf\n",
        "print(tf.__version__)"
      ],
      "execution_count": null,
      "outputs": []
    },
    {
      "cell_type": "code",
      "metadata": {
        "id": "IbPmCzq4_KfV"
      },
      "source": [
        "cd Virtual-Try-On-Flask"
      ],
      "execution_count": null,
      "outputs": []
    },
    {
      "cell_type": "code",
      "metadata": {
        "id": "9f1_py7a_KaX"
      },
      "source": [
        "from Model import Model\n",
        "import numpy as np\n",
        "from PIL import Image\n",
        "import matplotlib.pyplot as plt\n",
        "import time\n",
        "import cv2\n",
        "\n",
        "import os\n",
        "os.environ[\"CUDA_VISIBLE_DEVICES\"] = \"0\"\n",
        "\n",
        "%matplotlib inline"
      ],
      "execution_count": null,
      "outputs": []
    },
    {
      "cell_type": "code",
      "metadata": {
        "id": "oSPKL4CI_KXf"
      },
      "source": [
        "model = Model(\"checkpoints/jpp.pb\",\n",
        "              \"checkpoints/gmm.pth\", \n",
        "              \"checkpoints/tom.pth\", use_cuda=True)"
      ],
      "execution_count": null,
      "outputs": []
    },
    {
      "cell_type": "code",
      "metadata": {
        "id": "aUArrvGP_KS3"
      },
      "source": [
        "img = np.array(Image.open(\"89.jpg\"))\n",
        "print(\"img:\", img.shape)\n",
        "img = cv2.resize(img, (900, 600))\n",
        "print(img.shape)\n",
        "plt.imshow(img)"
      ],
      "execution_count": null,
      "outputs": []
    },
    {
      "cell_type": "code",
      "metadata": {
        "id": "44rbZpHWALl_"
      },
      "source": [
        "c_img = np.array(Image.open(\"123455.jpg\"))\n",
        "# c_img = cv2.cvtColor(c_img, cv2.COLOR_BGRA2RGB)\n",
        "c_img = cv2.resize(c_img, (900, 600))\n",
        "print(c_img.shape)\n",
        "plt.imshow(c_img)"
      ],
      "execution_count": null,
      "outputs": []
    },
    {
      "cell_type": "code",
      "metadata": {
        "id": "lEAJBQ3ZALkg"
      },
      "source": [
        "start = time.time()\n",
        "result,trusts = model.predict(img, c_img, need_pre=False,check_dirty=False)\n",
        "if result is not None:\n",
        "    end = time.time()\n",
        "    print(\"time:\"+str(end-start))\n",
        "    print(\"Confidence\"+str(trusts))\n",
        "    plt.imshow(result)"
      ],
      "execution_count": null,
      "outputs": []
    }
  ]
}